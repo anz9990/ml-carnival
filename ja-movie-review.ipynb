{
 "cells": [
  {
   "cell_type": "markdown",
   "metadata": {},
   "source": [
    "## Yahoo Movie Reviews"
   ]
  },
  {
   "cell_type": "markdown",
   "metadata": {},
   "source": [
    "This notebook uses the fastai library and ULMFit to classify sentiment on Japanese Movie Reviews "
   ]
  },
  {
   "cell_type": "code",
   "execution_count": 1,
   "metadata": {},
   "outputs": [],
   "source": [
    "from fastai.text import *\n",
    "import html"
   ]
  },
  {
   "cell_type": "code",
   "execution_count": 2,
   "metadata": {},
   "outputs": [],
   "source": [
    "BOS = 'xbos'  # beginning-of-sentence tag\n",
    "FLD = 'xfld'  # data field tag\n",
    "\n",
    "PATH=Path('data/lm/')"
   ]
  },
  {
   "cell_type": "markdown",
   "metadata": {},
   "source": [
    "## Standardize format"
   ]
  },
  {
   "cell_type": "code",
   "execution_count": 3,
   "metadata": {},
   "outputs": [],
   "source": [
    "LM_PATH=Path('data/lm/yahoo_lm/')\n",
    "#LM_PATH.mkdir(exist_ok=True)"
   ]
  },
  {
   "cell_type": "code",
   "execution_count": 4,
   "metadata": {},
   "outputs": [],
   "source": [
    "import re\n",
    "import MeCab\n",
    "\n",
    "tagger = MeCab.Tagger(\"-Owakati\")\n",
    "\n",
    "\n",
    "def tokenize(raw_sentence):\n",
    "    # http://testpy.hatenablog.com/entry/2016/10/04/010000\n",
    "    #print(type(raw_sentence))\n",
    "    result = tagger.parse(raw_sentence)\n",
    "    words = result.split()\n",
    "    if len(words) == 0:\n",
    "        return \"\"\n",
    "    if words[-1] == \"\\n\":\n",
    "        words = words[:-1]\n",
    "    return ' '.join(words)\n",
    "\n",
    "def tokenize_all(ss):\n",
    "    new_ss = []\n",
    "    for i in range(len(ss)):\n",
    "        new_ss.append(tokenize(ss[i]))\n",
    "        #print(\"Tokenizing {}/{} doc\".format(i,len(ss)))\n",
    "    return new_ss\n",
    "\n",
    "def multi_core_tokenize(ss, ncpus=None):\n",
    "    num_cpus=multiprocessing.cpu_count()\n",
    "    ncpus = ncpus or num_cpus\n",
    "    with ProcessPoolExecutor(ncpus) as e:\n",
    "        return sum(e.map(tokenize_all, ss), [])\n",
    "\n",
    "def get_char_str(astring):\n",
    "    morphs = [c for c in astring if not re.search(r\"^[\\s\\t\\n]*$\", c)]\n",
    "    return \" \".join(morphs)\n"
   ]
  },
  {
   "cell_type": "markdown",
   "metadata": {},
   "source": [
    "### Prepare Data\n",
    "Utility functions for processing obtained from https://github.com/dennybritz/sentiment-analysis/blob/master/utils/ymr_data.py"
   ]
  },
  {
   "cell_type": "code",
   "execution_count": 5,
   "metadata": {},
   "outputs": [],
   "source": [
    "def load_ymr_data(path):\n",
    "    with path.open() as f:\n",
    "        data = pd.read_json(f)\n",
    "        data.movieName = data.movieName.str.strip()\n",
    "        data.text = data.text.str.strip()\n",
    "        data.title = data.title.str.strip()\n",
    "        data = data[data.text.str.len() > 0]\n",
    "        data.url = data.url.str.strip()\n",
    "    return data\n",
    "\n",
    "def make_polar(data, balance=True):\n",
    "    data_polar = data.loc[data.rating != 3].copy()\n",
    "    data_polar.loc[data_polar.rating <= 2, 'rating'] = 0\n",
    "    data_polar.loc[data_polar.rating >= 4, 'rating'] = 1\n",
    "    if balance:\n",
    "        # Subsample - We want the same number of positive and negative examples\n",
    "        grouped_ratings = data_polar.groupby('rating')\n",
    "        K = grouped_ratings.rating.count().min()\n",
    "        indices = itertools.chain(\n",
    "            *[np.random.choice(v, K, replace=False) for k, v in grouped_ratings.groups.items()])\n",
    "        data_polar = data_polar.reindex(indices).copy()\n",
    "    return data_polar\n",
    "\n",
    "\n",
    "mov_df = load_ymr_data(PATH/'yahoo-movie-reviews.json')\n",
    "mov_df_polar = make_polar(mov_df)\n",
    "mov_df_polar.to_csv(LM_PATH/'mov_polar.csv', header=True, index=False, columns=['text', 'rating'])\n",
    "#val_texts,val_labels = get_texts(PATH/'test')"
   ]
  },
  {
   "cell_type": "code",
   "execution_count": 6,
   "metadata": {},
   "outputs": [
    {
     "data": {
      "text/html": [
       "<div>\n",
       "<style scoped>\n",
       "    .dataframe tbody tr th:only-of-type {\n",
       "        vertical-align: middle;\n",
       "    }\n",
       "\n",
       "    .dataframe tbody tr th {\n",
       "        vertical-align: top;\n",
       "    }\n",
       "\n",
       "    .dataframe thead th {\n",
       "        text-align: right;\n",
       "    }\n",
       "</style>\n",
       "<table border=\"1\" class=\"dataframe\">\n",
       "  <thead>\n",
       "    <tr style=\"text-align: right;\">\n",
       "      <th></th>\n",
       "      <th>date</th>\n",
       "      <th>movieName</th>\n",
       "      <th>movieUrl</th>\n",
       "      <th>rating</th>\n",
       "      <th>text</th>\n",
       "      <th>title</th>\n",
       "      <th>url</th>\n",
       "    </tr>\n",
       "  </thead>\n",
       "  <tbody>\n",
       "    <tr>\n",
       "      <th>42685</th>\n",
       "      <td>2007年9月26日 7時52分</td>\n",
       "      <td>トランスフォーマー</td>\n",
       "      <td>http://movies.yahoo.co.jp/movie/%E3%83%88%E3%8...</td>\n",
       "      <td>0</td>\n",
       "      <td>ロボットがビルに突っ込むシーンがありました。\\n\\nまさにあの世界的な悪夢の瞬間、\\n\\nワ...</td>\n",
       "      <td>9/11</td>\n",
       "      <td>http://movies.yahoo.co.jp/movie/%E3%83%88%E3%8...</td>\n",
       "    </tr>\n",
       "    <tr>\n",
       "      <th>50654</th>\n",
       "      <td>2011年6月10日 11時31分</td>\n",
       "      <td>ブラック・スワン</td>\n",
       "      <td>http://movies.yahoo.co.jp/movie/%E3%83%96%E3%8...</td>\n",
       "      <td>0</td>\n",
       "      <td>「病める国アメリカ」の退廃ぶりをここまでかと見せつける問題作と、まず冒頭、ほめ倒しておこう。...</td>\n",
       "      <td>「駄作」と評するべきなんだろうね</td>\n",
       "      <td>http://movies.yahoo.co.jp/movie/%E3%83%96%E3%8...</td>\n",
       "    </tr>\n",
       "    <tr>\n",
       "      <th>70355</th>\n",
       "      <td>2015年6月14日 23時57分</td>\n",
       "      <td>海街diary</td>\n",
       "      <td>http://movies.yahoo.co.jp/movie/%E6%B5%B7%E8%A...</td>\n",
       "      <td>0</td>\n",
       "      <td>原作ファンとしては姉妹が美人過ぎると思います。特に広瀬すずが綺麗すぎて中学生に見えない。で、...</td>\n",
       "      <td>美人過ぎる！</td>\n",
       "      <td>http://movies.yahoo.co.jp/movie/%E6%B5%B7%E8%A...</td>\n",
       "    </tr>\n",
       "    <tr>\n",
       "      <th>2747</th>\n",
       "      <td>2013年12月23日 23時58分</td>\n",
       "      <td>かぐや姫の物語</td>\n",
       "      <td>http://movies.yahoo.co.jp/movie/%E3%81%8B%E3%8...</td>\n",
       "      <td>0</td>\n",
       "      <td>パンフレットには\\n\\n同名の先行作（沢口靖子バージョン）があることと\\n\\n場面や人物の思...</td>\n",
       "      <td>パンフレットは読んだが☆１！</td>\n",
       "      <td>http://movies.yahoo.co.jp/movie/%E3%81%8B%E3%8...</td>\n",
       "    </tr>\n",
       "    <tr>\n",
       "      <th>20856</th>\n",
       "      <td>2011年8月9日 20時08分</td>\n",
       "      <td>コクリコ坂から</td>\n",
       "      <td>http://movies.yahoo.co.jp/movie/%E3%82%B3%E3%8...</td>\n",
       "      <td>0</td>\n",
       "      <td>商業映画である以上、多くの観客に受け入れられる物でなければならない。\\n\\nこの映画は商業映...</td>\n",
       "      <td>「ジブリ」の看板を背負って欲しくない</td>\n",
       "      <td>http://movies.yahoo.co.jp/movie/%E3%82%B3%E3%8...</td>\n",
       "    </tr>\n",
       "  </tbody>\n",
       "</table>\n",
       "</div>"
      ],
      "text/plain": [
       "                     date  movieName  \\\n",
       "42685    2007年9月26日 7時52分  トランスフォーマー   \n",
       "50654   2011年6月10日 11時31分   ブラック・スワン   \n",
       "70355   2015年6月14日 23時57分    海街diary   \n",
       "2747   2013年12月23日 23時58分    かぐや姫の物語   \n",
       "20856    2011年8月9日 20時08分    コクリコ坂から   \n",
       "\n",
       "                                                movieUrl  rating  \\\n",
       "42685  http://movies.yahoo.co.jp/movie/%E3%83%88%E3%8...       0   \n",
       "50654  http://movies.yahoo.co.jp/movie/%E3%83%96%E3%8...       0   \n",
       "70355  http://movies.yahoo.co.jp/movie/%E6%B5%B7%E8%A...       0   \n",
       "2747   http://movies.yahoo.co.jp/movie/%E3%81%8B%E3%8...       0   \n",
       "20856  http://movies.yahoo.co.jp/movie/%E3%82%B3%E3%8...       0   \n",
       "\n",
       "                                                    text               title  \\\n",
       "42685  ロボットがビルに突っ込むシーンがありました。\\n\\nまさにあの世界的な悪夢の瞬間、\\n\\nワ...                9/11   \n",
       "50654  「病める国アメリカ」の退廃ぶりをここまでかと見せつける問題作と、まず冒頭、ほめ倒しておこう。...    「駄作」と評するべきなんだろうね   \n",
       "70355  原作ファンとしては姉妹が美人過ぎると思います。特に広瀬すずが綺麗すぎて中学生に見えない。で、...              美人過ぎる！   \n",
       "2747   パンフレットには\\n\\n同名の先行作（沢口靖子バージョン）があることと\\n\\n場面や人物の思...      パンフレットは読んだが☆１！   \n",
       "20856  商業映画である以上、多くの観客に受け入れられる物でなければならない。\\n\\nこの映画は商業映...  「ジブリ」の看板を背負って欲しくない   \n",
       "\n",
       "                                                     url  \n",
       "42685  http://movies.yahoo.co.jp/movie/%E3%83%88%E3%8...  \n",
       "50654  http://movies.yahoo.co.jp/movie/%E3%83%96%E3%8...  \n",
       "70355  http://movies.yahoo.co.jp/movie/%E6%B5%B7%E8%A...  \n",
       "2747   http://movies.yahoo.co.jp/movie/%E3%81%8B%E3%8...  \n",
       "20856  http://movies.yahoo.co.jp/movie/%E3%82%B3%E3%8...  "
      ]
     },
     "execution_count": 6,
     "metadata": {},
     "output_type": "execute_result"
    }
   ],
   "source": [
    "mov_df_polar.head()"
   ]
  },
  {
   "cell_type": "code",
   "execution_count": null,
   "metadata": {},
   "outputs": [],
   "source": [
    "texts, labels = [tokenize(review) for review in mov_df_polar['text'].tolist()], mov_df_polar['rating'].tolist()"
   ]
  },
  {
   "cell_type": "code",
   "execution_count": 11,
   "metadata": {},
   "outputs": [
    {
     "data": {
      "text/plain": [
       "('ロボット が ビル に 突っ込む シーン が あり まし た 。 まさに あの 世界 的 な 悪夢 の 瞬間 、 ワールド トレード センター に 航空 機 が 激突 する よう な 衝撃 的 な 事件 を 明らか に 連想 さ せる シーン です 。 ビル の 中 に いる 人 の 目線 で ロボット が 突っ込ん で き ます 。 その シーン は 個人 的 に は 、 とても 悪意 に 満ち た 物 に 感じ まし た 。 この 映画 の 製作 関係 者 に は 、 テロ の 犠牲 者 、 遺族 に 対し て の 配慮 と いう もの が ない の でしょう か ？ もう ６ 年 経て ば 時効 な の でしょう か ？ 少なく とも 事件 当時 は 、 映画 に 対し て そう いう シーン の 自粛 が 問わ れ て た 時期 が あり まし た 。 確か に アクション 映画 に は 破壊 的 な シーン は 必要 です が 、 最低 限 の モラル も 必要 な の で は ない でしょう か ？ 最低 の 映画 です 。',\n",
       " 0)"
      ]
     },
     "execution_count": 11,
     "metadata": {},
     "output_type": "execute_result"
    }
   ],
   "source": [
    "texts[0], labels[0]"
   ]
  },
  {
   "cell_type": "code",
   "execution_count": 12,
   "metadata": {},
   "outputs": [],
   "source": [
    "trn_texts,val_texts, trn_labels, val_labels = sklearn.model_selection.train_test_split(\n",
    "    texts, labels, test_size=0.1)"
   ]
  },
  {
   "cell_type": "code",
   "execution_count": 13,
   "metadata": {},
   "outputs": [
    {
     "data": {
      "text/plain": [
       "(34363, 3819)"
      ]
     },
     "execution_count": 13,
     "metadata": {},
     "output_type": "execute_result"
    }
   ],
   "source": [
    "len(trn_texts), len(val_texts)"
   ]
  },
  {
   "cell_type": "code",
   "execution_count": 134,
   "metadata": {},
   "outputs": [],
   "source": [
    "df_trn = pd.DataFrame({'text':trn_texts, 'labels':[0]*len(trn_texts)}, columns=col_names)\n",
    "df_val = pd.DataFrame({'text':val_texts, 'labels':[0]*len(val_texts)}, columns=col_names)\n",
    "\n",
    "df_trn.to_csv(LM_PATH/'train.csv', header=False, index=False)\n",
    "df_val.to_csv(LM_PATH/'test.csv', header=False, index=False)"
   ]
  },
  {
   "cell_type": "code",
   "execution_count": null,
   "metadata": {},
   "outputs": [],
   "source": [
    "df_trn = pd.read_csv(LM_PATH/'train.csv')\n",
    "df_val = pd.read_csv(LM_PATH/'test.csv')"
   ]
  },
  {
   "cell_type": "markdown",
   "metadata": {},
   "source": [
    "## Language model tokens"
   ]
  },
  {
   "cell_type": "code",
   "execution_count": 14,
   "metadata": {
    "scrolled": true
   },
   "outputs": [
    {
     "data": {
      "text/plain": [
       "[('の', 306804),\n",
       " ('、', 257551),\n",
       " ('。', 255572),\n",
       " ('に', 205975),\n",
       " ('た', 199360),\n",
       " ('が', 191846),\n",
       " ('て', 190916),\n",
       " ('は', 173690),\n",
       " ('と', 155805),\n",
       " ('で', 147311),\n",
       " ('を', 120694),\n",
       " ('も', 107693),\n",
       " ('し', 86070),\n",
       " ('な', 77870),\n",
       " ('ない', 67340),\n",
       " ('か', 65369),\n",
       " ('です', 55447),\n",
       " ('・', 54581),\n",
       " ('映画', 48345),\n",
       " ('だ', 41170),\n",
       " ('まし', 37485),\n",
       " ('ます', 34605),\n",
       " ('ん', 34061),\n",
       " ('「', 33662),\n",
       " ('」', 33630)]"
      ]
     },
     "execution_count": 14,
     "metadata": {},
     "output_type": "execute_result"
    }
   ],
   "source": [
    "freq = Counter(p for o in trn_texts for p in o.split())\n",
    "freq.most_common(25)"
   ]
  },
  {
   "cell_type": "markdown",
   "metadata": {},
   "source": [
    "The *vocab* is the **unique set of all tokens** in our dataset. The vocab provides us a way for us to simply replace each word in our datasets with a unique integer called an index.\n",
    "\n",
    "In a large corpus of data one might find some rare words which are only used a few times in the whole dataset. We discard such rare words and avoid trying to learn meaningful patterns out of them.\n",
    "\n",
    "Here we have set a minimum frequency of occurence to 2 times. It has been observed by NLP practicioners that a maximum vocab of 60k usually yields good results for classification tasks. So we set maz_vocab to 60000."
   ]
  },
  {
   "cell_type": "code",
   "execution_count": 15,
   "metadata": {},
   "outputs": [],
   "source": [
    "max_vocab = 60000\n",
    "min_freq = 2"
   ]
  },
  {
   "cell_type": "code",
   "execution_count": 16,
   "metadata": {},
   "outputs": [],
   "source": [
    "itos = [o for o,c in freq.most_common(max_vocab) if c>min_freq]\n",
    "itos.insert(0, '_pad_')\n",
    "itos.insert(0, '_unk_')"
   ]
  },
  {
   "cell_type": "markdown",
   "metadata": {},
   "source": [
    "We create a reverse mapping called stoi which is useful to lookup the index of a given token. stoi also has the same number of elements as itos. We use a high performance container called [collections.defaultdict](https://docs.python.org/2/library/collections.html#collections.defaultdict) to store our stoi mapping."
   ]
  },
  {
   "cell_type": "code",
   "execution_count": 17,
   "metadata": {},
   "outputs": [
    {
     "data": {
      "text/plain": [
       "29726"
      ]
     },
     "execution_count": 17,
     "metadata": {},
     "output_type": "execute_result"
    }
   ],
   "source": [
    "stoi = collections.defaultdict(lambda:0, {v:k for k,v in enumerate(itos)})\n",
    "len(itos)"
   ]
  },
  {
   "cell_type": "code",
   "execution_count": 18,
   "metadata": {},
   "outputs": [],
   "source": [
    "trn_lm = np.array([[stoi[o] for o in p.split()] for p in trn_texts])\n",
    "val_lm = np.array([[stoi[o] for o in p.split()] for p in val_texts])"
   ]
  },
  {
   "cell_type": "code",
   "execution_count": 19,
   "metadata": {},
   "outputs": [],
   "source": [
    "np.save(LM_PATH/'tmp'/'trn_ids.npy', trn_lm)\n",
    "np.save(LM_PATH/'tmp'/'val_ids.npy', val_lm)\n",
    "pickle.dump(itos, open(LM_PATH/'tmp'/'itos.pkl', 'wb'))"
   ]
  },
  {
   "cell_type": "code",
   "execution_count": 20,
   "metadata": {},
   "outputs": [],
   "source": [
    "trn_lm = np.load(LM_PATH/'tmp'/'trn_ids.npy')\n",
    "val_lm = np.load(LM_PATH/'tmp'/'val_ids.npy')\n",
    "itos = pickle.load(open(LM_PATH/'tmp'/'itos.pkl', 'rb'))"
   ]
  },
  {
   "cell_type": "code",
   "execution_count": 21,
   "metadata": {},
   "outputs": [
    {
     "data": {
      "text/plain": [
       "(29726, 34363)"
      ]
     },
     "execution_count": 21,
     "metadata": {},
     "output_type": "execute_result"
    }
   ],
   "source": [
    "vs=len(itos)\n",
    "vs,len(trn_lm)"
   ]
  },
  {
   "cell_type": "markdown",
   "metadata": {},
   "source": [
    "## jawiki conversion"
   ]
  },
  {
   "cell_type": "markdown",
   "metadata": {},
   "source": [
    "We are now going to use a pre-trained LM that has been trained on a japanese wikipedia articlesto transfer it's knowledge to a target LM and the weights can be fine-tuned."
   ]
  },
  {
   "cell_type": "markdown",
   "metadata": {},
   "source": [
    "The pre-trained LM weights have an embedding size of 200, 500 hidden units and just 3 layers. We need to match these values  with the target IMDB LM so that the weights can be loaded up."
   ]
  },
  {
   "cell_type": "code",
   "execution_count": 22,
   "metadata": {},
   "outputs": [],
   "source": [
    "em_sz,nh,nl = 200,500,3"
   ]
  },
  {
   "cell_type": "code",
   "execution_count": 23,
   "metadata": {},
   "outputs": [],
   "source": [
    "PRE_PATH = PATH/'models'\n",
    "PRE_LM_PATH = PRE_PATH/'lm_jawiki.h5'"
   ]
  },
  {
   "cell_type": "code",
   "execution_count": 24,
   "metadata": {},
   "outputs": [],
   "source": [
    "wgts = torch.load(PRE_LM_PATH, map_location=lambda storage, loc: storage)"
   ]
  },
  {
   "cell_type": "markdown",
   "metadata": {},
   "source": [
    "We calculate the mean of the layer0 encoder weights. This can be used to assign weights to unknown tokens when we transfer to target Yahoo Movies Review LM."
   ]
  },
  {
   "cell_type": "code",
   "execution_count": 25,
   "metadata": {},
   "outputs": [],
   "source": [
    "enc_wgts = to_np(wgts['0.encoder.weight'])\n",
    "row_m = enc_wgts.mean(0)"
   ]
  },
  {
   "cell_type": "code",
   "execution_count": 26,
   "metadata": {},
   "outputs": [],
   "source": [
    "itos2 = pickle.load((PATH/'itos_wiki.pkl').open('rb'))\n",
    "stoi2 = collections.defaultdict(lambda:-1, {v:k for k,v in enumerate(itos2)})"
   ]
  },
  {
   "cell_type": "markdown",
   "metadata": {},
   "source": [
    "Before we try to transfer the knowledge from wikitext to the Yahoo Movie Reviews LM, we match up the vocab words and their indexes. \n",
    "We use the defaultdict container once again, to assign mean weights to unknown tokens that do not exist in wikitext103."
   ]
  },
  {
   "cell_type": "code",
   "execution_count": 27,
   "metadata": {},
   "outputs": [],
   "source": [
    "new_w = np.zeros((vs, em_sz), dtype=np.float32)\n",
    "for i,w in enumerate(itos):\n",
    "    r = stoi2[w]\n",
    "    new_w[i] = enc_wgts[r] if r>=0 else row_m"
   ]
  },
  {
   "cell_type": "markdown",
   "metadata": {},
   "source": [
    "We now overwrite the weights into the wgts odict.\n",
    "The decoder module, which we will explore in detail is also loaded with the same weights due to an idea called weight tying."
   ]
  },
  {
   "cell_type": "code",
   "execution_count": 28,
   "metadata": {},
   "outputs": [],
   "source": [
    "wgts['0.encoder.weight'] = T(new_w)\n",
    "wgts['0.encoder_with_dropout.embed.weight'] = T(np.copy(new_w))\n",
    "wgts['1.decoder.weight'] = T(np.copy(new_w))"
   ]
  },
  {
   "cell_type": "markdown",
   "metadata": {},
   "source": [
    "Now that we have the weights prepared, we are ready to create and start training our new IMDB language pytorch model!"
   ]
  },
  {
   "cell_type": "markdown",
   "metadata": {},
   "source": [
    "## Language model"
   ]
  },
  {
   "cell_type": "code",
   "execution_count": 29,
   "metadata": {},
   "outputs": [],
   "source": [
    "wd=1e-7\n",
    "bptt=70\n",
    "bs=52\n",
    "opt_fn = partial(optim.Adam, betas=(0.8, 0.99))"
   ]
  },
  {
   "cell_type": "code",
   "execution_count": 30,
   "metadata": {},
   "outputs": [],
   "source": [
    "trn_dl = LanguageModelLoader(np.concatenate(trn_lm), bs, bptt)\n",
    "val_dl = LanguageModelLoader(np.concatenate(val_lm), bs, bptt)\n",
    "md = LanguageModelData(PATH, 1, vs, trn_dl, val_dl, bs=bs, bptt=bptt)"
   ]
  },
  {
   "cell_type": "code",
   "execution_count": 31,
   "metadata": {},
   "outputs": [],
   "source": [
    "drops = np.array([0.25, 0.1, 0.2, 0.02, 0.15])*0.7"
   ]
  },
  {
   "cell_type": "markdown",
   "metadata": {},
   "source": [
    "We first tune the last embedding layer so that the missing tokens initialized with mean weights get tuned properly. So we freeze everything except the last layer.\n",
    "\n",
    "We also keep track of the *accuracy* metric."
   ]
  },
  {
   "cell_type": "code",
   "execution_count": 32,
   "metadata": {},
   "outputs": [],
   "source": [
    "learner= md.get_model(opt_fn, em_sz, nh, nl, \n",
    "    dropouti=drops[0], dropout=drops[1], wdrop=drops[2], dropoute=drops[3], dropouth=drops[4])\n",
    "\n",
    "learner.metrics = [accuracy]\n",
    "learner.freeze_to(-1)"
   ]
  },
  {
   "cell_type": "code",
   "execution_count": 33,
   "metadata": {},
   "outputs": [],
   "source": [
    "learner.model.load_state_dict(wgts)"
   ]
  },
  {
   "cell_type": "code",
   "execution_count": 34,
   "metadata": {},
   "outputs": [],
   "source": [
    "lr=1e-3\n",
    "lrs = lr"
   ]
  },
  {
   "cell_type": "code",
   "execution_count": 35,
   "metadata": {},
   "outputs": [],
   "source": [
    "torch.backends.cudnn.enabled = False # do for torch 0.4 because"
   ]
  },
  {
   "cell_type": "code",
   "execution_count": 36,
   "metadata": {},
   "outputs": [
    {
     "data": {
      "application/vnd.jupyter.widget-view+json": {
       "model_id": "a0a6ba692a8643bf80839a009bb7fcfa",
       "version_major": 2,
       "version_minor": 0
      },
      "text/plain": [
       "HBox(children=(IntProgress(value=0, description='Epoch', max=1), HTML(value='')))"
      ]
     },
     "metadata": {},
     "output_type": "display_data"
    },
    {
     "name": "stdout",
     "output_type": "stream",
     "text": [
      "epoch      trn_loss   val_loss   accuracy                     \n",
      "    0      4.77182    4.497791   0.247746  \n",
      "\n"
     ]
    },
    {
     "data": {
      "text/plain": [
       "[4.497791015740597, 0.24774649799472154]"
      ]
     },
     "execution_count": 36,
     "metadata": {},
     "output_type": "execute_result"
    }
   ],
   "source": [
    "learner.fit(lrs/2, 1, wds=wd, use_clr=(32,2), cycle_len=1)"
   ]
  },
  {
   "cell_type": "markdown",
   "metadata": {},
   "source": [
    "Note that we print out accuracy and keep track of how often we end up predicting the target word correctly. While this is a good metric to check, it is not part of our loss function as it can get quite bumpy. We only minimize cross-entropy loss in the LM.\n",
    "\n",
    "The exponent of the cross-entropy loss is called the perplexity of the LM. (low perplexity is better)."
   ]
  },
  {
   "cell_type": "code",
   "execution_count": 37,
   "metadata": {},
   "outputs": [],
   "source": [
    "learner.save('yahoo_lm_last_ft')"
   ]
  },
  {
   "cell_type": "code",
   "execution_count": 38,
   "metadata": {},
   "outputs": [],
   "source": [
    "learner.load('yahoo_lm_last_ft')"
   ]
  },
  {
   "cell_type": "code",
   "execution_count": 39,
   "metadata": {},
   "outputs": [],
   "source": [
    "learner.unfreeze()"
   ]
  },
  {
   "cell_type": "code",
   "execution_count": 40,
   "metadata": {},
   "outputs": [
    {
     "data": {
      "application/vnd.jupyter.widget-view+json": {
       "model_id": "85b163752ecf4034b7083fc35c6f6a98",
       "version_major": 2,
       "version_minor": 0
      },
      "text/plain": [
       "HBox(children=(IntProgress(value=0, description='Epoch', max=1), HTML(value='')))"
      ]
     },
     "metadata": {},
     "output_type": "display_data"
    },
    {
     "name": "stdout",
     "output_type": "stream",
     "text": [
      "epoch      trn_loss   val_loss   accuracy                     \n",
      "    0      4.247745   4.082875   0.290825  \n",
      "\n"
     ]
    }
   ],
   "source": [
    "learner.lr_find(start_lr=lrs/10, end_lr=lrs*10, linear=True)"
   ]
  },
  {
   "cell_type": "code",
   "execution_count": 41,
   "metadata": {},
   "outputs": [
    {
     "data": {
      "image/png": "[encoded data removed]",
      "text/plain": [
       "<Figure size 432x288 with 1 Axes>"
      ]
     },
     "metadata": {},
     "output_type": "display_data"
    }
   ],
   "source": [
    "learner.sched.plot()"
   ]
  },
  {
   "cell_type": "code",
   "execution_count": 42,
   "metadata": {},
   "outputs": [],
   "source": [
    "lrs=1e-2"
   ]
  },
  {
   "cell_type": "code",
   "execution_count": 43,
   "metadata": {
    "scrolled": false
   },
   "outputs": [
    {
     "data": {
      "application/vnd.jupyter.widget-view+json": {
       "model_id": "c988608c892f45749039c74c34624299",
       "version_major": 2,
       "version_minor": 0
      },
      "text/plain": [
       "HBox(children=(IntProgress(value=0, description='Epoch', max=15), HTML(value='')))"
      ]
     },
     "metadata": {},
     "output_type": "display_data"
    },
    {
     "name": "stdout",
     "output_type": "stream",
     "text": [
      "epoch      trn_loss   val_loss   accuracy                     \n",
      "    0      4.195465   4.023378   0.297113  \n",
      "    1      4.124047   3.969857   0.301403                     \n",
      "    2      4.044492   3.899156   0.308758                     \n",
      "    3      3.978928   3.851844   0.314386                     \n",
      "    4      3.938721   3.816191   0.317795                     \n",
      "    5      3.898596   3.785243   0.321737                     \n",
      "    6      3.860259   3.759675   0.323869                     \n",
      "    7      3.825177   3.738404   0.327346                     \n",
      "    8      3.81658    3.715246   0.329614                     \n",
      "    9      3.784686   3.695854   0.332123                     \n",
      "    10     3.752295   3.678986   0.333944                     \n",
      "    11     3.71763    3.658768   0.335969                     \n",
      "    12     3.693605   3.647004   0.337413                     \n",
      "    13     3.666613   3.63081    0.33946                      \n",
      "    14     3.625274   3.624469   0.340657                     \n",
      "\n"
     ]
    },
    {
     "data": {
      "text/plain": [
       "[3.624469256160235, 0.34065684555756925]"
      ]
     },
     "execution_count": 43,
     "metadata": {},
     "output_type": "execute_result"
    }
   ],
   "source": [
    "learner.fit(lrs, 1, wds=wd, use_clr=(20,10), cycle_len=15)"
   ]
  },
  {
   "cell_type": "markdown",
   "metadata": {},
   "source": [
    "We save the trained model weights and separately save the encoder part of the LM model as well. This will serve as our backbone in the classification task model."
   ]
  },
  {
   "cell_type": "code",
   "execution_count": 44,
   "metadata": {},
   "outputs": [],
   "source": [
    "learner.save('lm_yahoo')"
   ]
  },
  {
   "cell_type": "code",
   "execution_count": 45,
   "metadata": {},
   "outputs": [],
   "source": [
    "learner.save_encoder('lm_yahoo_enc')"
   ]
  },
  {
   "cell_type": "code",
   "execution_count": 46,
   "metadata": {},
   "outputs": [
    {
     "data": {
      "image/png": "[encoded data removed]",
      "text/plain": [
       "<Figure size 432x288 with 1 Axes>"
      ]
     },
     "metadata": {},
     "output_type": "display_data"
    }
   ],
   "source": [
    "learner.sched.plot_loss()"
   ]
  },
  {
   "cell_type": "markdown",
   "metadata": {},
   "source": [
    "## Classifier"
   ]
  },
  {
   "cell_type": "markdown",
   "metadata": {},
   "source": [
    "Now we can create our final model, a classifier which is really a custom linear head over our trained LM backbone. The steps to create the classifier model are similar to the ones for the LM."
   ]
  },
  {
   "cell_type": "code",
   "execution_count": 47,
   "metadata": {},
   "outputs": [],
   "source": [
    "trn_clas = np.load(LM_PATH/'tmp'/'trn_ids.npy')\n",
    "val_clas = np.load(LM_PATH/'tmp'/'val_ids.npy')\n",
    "itos = pickle.load(open(LM_PATH/'tmp'/'itos.pkl', 'rb'))\n",
    "trn_labels = np.array(trn_labels)\n",
    "val_labels = np.array(val_labels)"
   ]
  },
  {
   "cell_type": "code",
   "execution_count": 48,
   "metadata": {},
   "outputs": [],
   "source": [
    "bptt,em_sz,nh,nl = 70,200,500,3\n",
    "vs = len(itos)\n",
    "opt_fn = partial(optim.Adam, betas=(0.8, 0.99))\n",
    "bs = 48"
   ]
  },
  {
   "cell_type": "code",
   "execution_count": 49,
   "metadata": {},
   "outputs": [],
   "source": [
    "min_lbl = trn_labels.min()\n",
    "trn_labels -= min_lbl\n",
    "val_labels -= min_lbl\n",
    "c=int(trn_labels.max())+1"
   ]
  },
  {
   "cell_type": "markdown",
   "metadata": {},
   "source": [
    "The sortishSampler cuts down the overall number of padding tokens the classifier ends up seeing."
   ]
  },
  {
   "cell_type": "code",
   "execution_count": 50,
   "metadata": {},
   "outputs": [],
   "source": [
    "trn_ds = TextDataset(trn_clas, trn_labels)\n",
    "val_ds = TextDataset(val_clas, val_labels)\n",
    "trn_samp = SortishSampler(trn_clas, key=lambda x: len(trn_clas[x]), bs=bs//2)\n",
    "val_samp = SortSampler(val_clas, key=lambda x: len(val_clas[x]))\n",
    "trn_dl = DataLoader(trn_ds, bs//2, transpose=True, num_workers=1, pad_idx=1, sampler=trn_samp)\n",
    "val_dl = DataLoader(val_ds, bs, transpose=True, num_workers=1, pad_idx=1, sampler=val_samp)\n",
    "md = ModelData(PATH, trn_dl, val_dl)"
   ]
  },
  {
   "cell_type": "code",
   "execution_count": 51,
   "metadata": {},
   "outputs": [],
   "source": [
    "dps = np.array([0.4,0.5,0.05,0.3,0.4])*0.5"
   ]
  },
  {
   "cell_type": "code",
   "execution_count": 52,
   "metadata": {},
   "outputs": [],
   "source": [
    "m = get_rnn_classifier(bptt, 20*70, c, vs, emb_sz=em_sz, n_hid=nh, n_layers=nl, pad_token=1,\n",
    "          layers=[em_sz*3, 50, c], drops=[dps[4], 0.1],\n",
    "          dropouti=dps[0], wdrop=dps[1], dropoute=dps[2], dropouth=dps[3])"
   ]
  },
  {
   "cell_type": "code",
   "execution_count": 53,
   "metadata": {},
   "outputs": [],
   "source": [
    "opt_fn = partial(optim.Adam, betas=(0.7, 0.99))"
   ]
  },
  {
   "cell_type": "code",
   "execution_count": 54,
   "metadata": {},
   "outputs": [],
   "source": [
    "learn = RNN_Learner(md, TextModel(to_gpu(m)), opt_fn=opt_fn)\n",
    "learn.reg_fn = partial(seq2seq_reg, alpha=2, beta=1)\n",
    "learn.clip=25.\n",
    "learn.metrics = [accuracy]"
   ]
  },
  {
   "cell_type": "code",
   "execution_count": 55,
   "metadata": {},
   "outputs": [],
   "source": [
    "lr=3e-3\n",
    "lrm = 2.6\n",
    "lrs = np.array([lr/(lrm**4), lr/(lrm**3), lr/(lrm**2), lr/lrm, lr])"
   ]
  },
  {
   "cell_type": "code",
   "execution_count": 56,
   "metadata": {},
   "outputs": [],
   "source": [
    "wd = 1e-7\n",
    "#wd = 0\n",
    "learn.load_encoder('lm_yahoo_enc')"
   ]
  },
  {
   "cell_type": "code",
   "execution_count": 57,
   "metadata": {},
   "outputs": [],
   "source": [
    "learn.freeze_to(-1)"
   ]
  },
  {
   "cell_type": "code",
   "execution_count": 58,
   "metadata": {},
   "outputs": [
    {
     "data": {
      "application/vnd.jupyter.widget-view+json": {
       "model_id": "87d92ce7a4b4488f8f89dec06ed6a749",
       "version_major": 2,
       "version_minor": 0
      },
      "text/plain": [
       "HBox(children=(IntProgress(value=0, description='Epoch', max=1), HTML(value='')))"
      ]
     },
     "metadata": {},
     "output_type": "display_data"
    },
    {
     "name": "stdout",
     "output_type": "stream",
     "text": [
      " 80%|███████▉  | 1140/1432 [01:48<00:27, 10.47it/s, loss=1.81] "
     ]
    },
    {
     "data": {
      "image/png": "[encoded data removed]",
      "text/plain": [
       "<Figure size 432x288 with 1 Axes>"
      ]
     },
     "metadata": {},
     "output_type": "display_data"
    }
   ],
   "source": [
    "learn.lr_find(lrs/1000)\n",
    "learn.sched.plot()"
   ]
  },
  {
   "cell_type": "code",
   "execution_count": 59,
   "metadata": {},
   "outputs": [],
   "source": [
    "lrs=np.array([1e-3,1e-3,1e-3,1e-3,1e-2])"
   ]
  },
  {
   "cell_type": "code",
   "execution_count": 60,
   "metadata": {},
   "outputs": [
    {
     "data": {
      "application/vnd.jupyter.widget-view+json": {
       "model_id": "942a73c6965c4e798a0395d9bceb1568",
       "version_major": 2,
       "version_minor": 0
      },
      "text/plain": [
       "HBox(children=(IntProgress(value=0, description='Epoch', max=1), HTML(value='')))"
      ]
     },
     "metadata": {},
     "output_type": "display_data"
    },
    {
     "name": "stdout",
     "output_type": "stream",
     "text": [
      "epoch      trn_loss   val_loss   accuracy                      \n",
      "    0      0.471516   0.364929   0.845247  \n"
     ]
    },
    {
     "data": {
      "text/plain": [
       "[0.3649292613283818, 0.8452474449154718]"
      ]
     },
     "execution_count": 60,
     "metadata": {},
     "output_type": "execute_result"
    }
   ],
   "source": [
    "learn.fit(lrs, 1, wds=wd, cycle_len=1, use_clr=(8,3))"
   ]
  },
  {
   "cell_type": "code",
   "execution_count": 61,
   "metadata": {},
   "outputs": [],
   "source": [
    "learn.save('yahoo_clas_0')"
   ]
  },
  {
   "cell_type": "code",
   "execution_count": 62,
   "metadata": {},
   "outputs": [],
   "source": [
    "learn.load('yahoo_clas_0')"
   ]
  },
  {
   "cell_type": "code",
   "execution_count": 63,
   "metadata": {},
   "outputs": [],
   "source": [
    "learn.freeze_to(-2)"
   ]
  },
  {
   "cell_type": "code",
   "execution_count": 64,
   "metadata": {},
   "outputs": [
    {
     "data": {
      "application/vnd.jupyter.widget-view+json": {
       "model_id": "9568e5843a8b4221a74dd1d9ec8c3afa",
       "version_major": 2,
       "version_minor": 0
      },
      "text/plain": [
       "HBox(children=(IntProgress(value=0, description='Epoch', max=1), HTML(value='')))"
      ]
     },
     "metadata": {},
     "output_type": "display_data"
    },
    {
     "name": "stdout",
     "output_type": "stream",
     "text": [
      "epoch      trn_loss   val_loss   accuracy                      \n",
      "    0      0.389495   0.304517   0.870385  \n"
     ]
    },
    {
     "data": {
      "text/plain": [
       "[0.30451693976384303, 0.8703849144742326]"
      ]
     },
     "execution_count": 64,
     "metadata": {},
     "output_type": "execute_result"
    }
   ],
   "source": [
    "learn.fit(lrs, 1, wds=wd, cycle_len=1, use_clr=(8,3))"
   ]
  },
  {
   "cell_type": "code",
   "execution_count": 65,
   "metadata": {},
   "outputs": [],
   "source": [
    "learn.save('yahoo_clas_1')"
   ]
  },
  {
   "cell_type": "code",
   "execution_count": 66,
   "metadata": {},
   "outputs": [],
   "source": [
    "learn.load('yahoo_clas_1')"
   ]
  },
  {
   "cell_type": "code",
   "execution_count": 67,
   "metadata": {},
   "outputs": [],
   "source": [
    "learn.unfreeze()"
   ]
  },
  {
   "cell_type": "code",
   "execution_count": 68,
   "metadata": {},
   "outputs": [
    {
     "data": {
      "application/vnd.jupyter.widget-view+json": {
       "model_id": "84e10c4466224192a2063bc8b34f04fc",
       "version_major": 2,
       "version_minor": 0
      },
      "text/plain": [
       "HBox(children=(IntProgress(value=0, description='Epoch', max=14), HTML(value='')))"
      ]
     },
     "metadata": {},
     "output_type": "display_data"
    },
    {
     "name": "stdout",
     "output_type": "stream",
     "text": [
      "epoch      trn_loss   val_loss   accuracy                      \n",
      "    0      0.344056   0.282968   0.874574  \n",
      "    1      0.306216   0.264631   0.892904                      \n",
      "    2      0.282492   0.261496   0.894475                      \n",
      "    3      0.258842   0.249208   0.895261                      \n",
      "    4      0.211831   0.235028   0.9094                        \n",
      "    5      0.209842   0.240068   0.9094                        \n",
      "    6      0.195876   0.250132   0.910448                      \n",
      "    7      0.173494   0.273665   0.908877                      \n",
      "    8      0.146501   0.304855   0.908091                      \n",
      "    9      0.134528   0.274679   0.909139                      \n",
      "    10     0.126052   0.280292   0.908353                      \n",
      "    11     0.120455   0.280911   0.910186                      \n",
      "    12     0.13258    0.282402   0.909662                       \n",
      "    13     0.104219   0.301203   0.909924                       \n"
     ]
    },
    {
     "data": {
      "text/plain": [
       "[0.3012027806029578, 0.9099240674339498]"
      ]
     },
     "execution_count": 68,
     "metadata": {},
     "output_type": "execute_result"
    }
   ],
   "source": [
    "learn.fit(lrs, 1, wds=wd, cycle_len=14, use_clr=(32,5))"
   ]
  },
  {
   "cell_type": "code",
   "execution_count": 69,
   "metadata": {},
   "outputs": [
    {
     "data": {
      "image/png": "[encoded data removed]",
      "text/plain": [
       "<Figure size 432x288 with 1 Axes>"
      ]
     },
     "metadata": {},
     "output_type": "display_data"
    }
   ],
   "source": [
    "learn.sched.plot_loss()"
   ]
  },
  {
   "cell_type": "code",
   "execution_count": 70,
   "metadata": {},
   "outputs": [],
   "source": [
    "learn.save('yahoo_clas_2')"
   ]
  },
  {
   "cell_type": "markdown",
   "metadata": {},
   "source": [
    "## Fin"
   ]
  },
  {
   "cell_type": "code",
   "execution_count": null,
   "metadata": {},
   "outputs": [],
   "source": []
  },
  {
   "cell_type": "code",
   "execution_count": 25,
   "metadata": {},
   "outputs": [
    {
     "data": {
      "image/png": "[encoded data removed]",
      "text/plain": [
       "<Figure size 432x288 with 1 Axes>"
      ]
     },
     "metadata": {},
     "output_type": "display_data"
    }
   ],
   "source": [
    "learn.sched.plot_loss()"
   ]
  }
 ],
 "metadata": {
  "_draft": {
   "nbviewer_url": "https://gist.github.com/0dd0df21cf404cf2bb51d0148c8b7d8b"
  },
  "gist": {
   "data": {
    "description": "fastai.text imdb example",
    "public": true
   },
   "id": "0dd0df21cf404cf2bb51d0148c8b7d8b"
  },
  "kernelspec": {
   "display_name": "Python 3",
   "language": "python",
   "name": "python3"
  },
  "language_info": {
   "codemirror_mode": {
    "name": "ipython",
    "version": 3
   },
   "file_extension": ".py",
   "mimetype": "text/x-python",
   "name": "python",
   "nbconvert_exporter": "python",
   "pygments_lexer": "ipython3",
   "version": "3.6.3"
  },
  "toc": {
   "colors": {
    "hover_highlight": "#DAA520",
    "navigate_num": "#000000",
    "navigate_text": "#333333",
    "running_highlight": "#FF0000",
    "selected_highlight": "#FFD700",
    "sidebar_border": "#EEEEEE",
    "wrapper_background": "#FFFFFF"
   },
   "moveMenuLeft": true,
   "nav_menu": {
    "height": "86px",
    "width": "252px"
   },
   "navigate_menu": true,
   "number_sections": true,
   "sideBar": true,
   "threshold": 4,
   "toc_cell": false,
   "toc_section_display": "block",
   "toc_window_display": false,
   "widenNotebook": false
  }
 },
 "nbformat": 4,
 "nbformat_minor": 2
}
